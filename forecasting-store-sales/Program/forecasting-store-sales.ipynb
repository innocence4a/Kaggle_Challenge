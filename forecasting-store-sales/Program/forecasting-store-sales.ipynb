{
 "cells": [
  {
   "cell_type": "code",
   "execution_count": null,
   "metadata": {
    "_cell_guid": "b1076dfc-b9ad-4769-8c92-a6c4dae69d19",
    "_uuid": "8f2839f25d086af736a60e9eeb907d3b93b6e0e5",
    "execution": {
     "iopub.execute_input": "2022-07-13T10:43:30.327353Z",
     "iopub.status.busy": "2022-07-13T10:43:30.326638Z",
     "iopub.status.idle": "2022-07-13T10:43:30.338628Z",
     "shell.execute_reply": "2022-07-13T10:43:30.337318Z",
     "shell.execute_reply.started": "2022-07-13T10:43:30.327293Z"
    }
   },
   "outputs": [],
   "source": [
    "# This Python 3 environment comes with many helpful analytics libraries installed\n",
    "# It is defined by the kaggle/python Docker image: https://github.com/kaggle/docker-python\n",
    "# For example, here's several helpful packages to load\n",
    "\n",
    "import numpy as np # linear algebra\n",
    "import pandas as pd # data processing, CSV file I/O (e.g. pd.read_csv)\n",
    "import lightgbm as lgb\n",
    "from sklearn.model_selection import train_test_split\n",
    "from sklearn.metrics import mean_absolute_error as mae\n",
    "\n",
    "# Input data files are available in the read-only \"../input/\" directory\n",
    "# For example, running this (by clicking run or pressing Shift+Enter) will list all files under the input directory\n",
    "\n",
    "# import os\n",
    "# for dirname, _, filenames in os.walk('/kaggle/input'):\n",
    "#     for filename in filenames:\n",
    "#         print(os.path.join(dirname, filename))\n",
    "\n",
    "# You can write up to 20GB to the current directory (/kaggle/working/) that gets preserved as output when you create a version using \"Save & Run All\" \n",
    "# You can also write temporary files to /kaggle/temp/, but they won't be saved outside of the current session"
   ]
  },
  {
   "cell_type": "code",
   "execution_count": null,
   "metadata": {
    "execution": {
     "iopub.execute_input": "2022-07-13T10:43:30.343650Z",
     "iopub.status.busy": "2022-07-13T10:43:30.342067Z",
     "iopub.status.idle": "2022-07-13T10:43:34.210495Z",
     "shell.execute_reply": "2022-07-13T10:43:34.209294Z",
     "shell.execute_reply.started": "2022-07-13T10:43:30.343557Z"
    }
   },
   "outputs": [],
   "source": [
    "train = pd.read_csv('../Dataset/store-sales-time-series-forecasting/train.csv')\n",
    "test = pd.read_csv('../Dataset/store-sales-time-series-forecasting/test.csv')\n",
    "store = pd.read_csv('../Dataset/store-sales-time-series-forecasting/stores.csv')\n",
    "oil = pd.read_csv('../Dataset/store-sales-time-series-forecasting/oil.csv')\n",
    "holidays_events = pd.read_csv('../Dataset/store-sales-time-series-forecasting/holidays_events.csv')\n",
    "transaction = pd.read_csv('../Dataset/store-sales-time-series-forecasting/transactions.csv')"
   ]
  },
  {
   "cell_type": "code",
   "execution_count": null,
   "metadata": {
    "execution": {
     "iopub.execute_input": "2022-07-13T10:43:34.213193Z",
     "iopub.status.busy": "2022-07-13T10:43:34.212676Z",
     "iopub.status.idle": "2022-07-13T10:43:34.233784Z",
     "shell.execute_reply": "2022-07-13T10:43:34.232258Z",
     "shell.execute_reply.started": "2022-07-13T10:43:34.213140Z"
    }
   },
   "outputs": [],
   "source": [
    "train.info()"
   ]
  },
  {
   "cell_type": "code",
   "execution_count": null,
   "metadata": {
    "execution": {
     "iopub.execute_input": "2022-07-13T10:43:34.238053Z",
     "iopub.status.busy": "2022-07-13T10:43:34.237454Z",
     "iopub.status.idle": "2022-07-13T10:43:34.285520Z",
     "shell.execute_reply": "2022-07-13T10:43:34.284082Z",
     "shell.execute_reply.started": "2022-07-13T10:43:34.237999Z"
    }
   },
   "outputs": [],
   "source": [
    "train"
   ]
  },
  {
   "cell_type": "code",
   "execution_count": null,
   "metadata": {
    "execution": {
     "iopub.execute_input": "2022-07-13T10:43:34.288286Z",
     "iopub.status.busy": "2022-07-13T10:43:34.287718Z",
     "iopub.status.idle": "2022-07-13T10:43:34.311556Z",
     "shell.execute_reply": "2022-07-13T10:43:34.310643Z",
     "shell.execute_reply.started": "2022-07-13T10:43:34.288181Z"
    }
   },
   "outputs": [],
   "source": [
    "test"
   ]
  },
  {
   "cell_type": "code",
   "execution_count": null,
   "metadata": {
    "execution": {
     "iopub.execute_input": "2022-07-13T10:43:34.313040Z",
     "iopub.status.busy": "2022-07-13T10:43:34.312687Z",
     "iopub.status.idle": "2022-07-13T10:43:34.816971Z",
     "shell.execute_reply": "2022-07-13T10:43:34.815846Z",
     "shell.execute_reply.started": "2022-07-13T10:43:34.313010Z"
    }
   },
   "outputs": [],
   "source": [
    "# 商品ジャンルの一覧を出す\n",
    "train[\"family\"].value_counts()"
   ]
  },
  {
   "cell_type": "code",
   "execution_count": null,
   "metadata": {
    "execution": {
     "iopub.execute_input": "2022-07-13T10:43:34.820526Z",
     "iopub.status.busy": "2022-07-13T10:43:34.819035Z",
     "iopub.status.idle": "2022-07-13T10:43:35.074073Z",
     "shell.execute_reply": "2022-07-13T10:43:35.072635Z",
     "shell.execute_reply.started": "2022-07-13T10:43:34.820481Z"
    }
   },
   "outputs": [],
   "source": [
    "# 商品ジャンルの種類の数を出す\n",
    "train[\"family\"].nunique()"
   ]
  },
  {
   "cell_type": "code",
   "execution_count": null,
   "metadata": {
    "execution": {
     "iopub.execute_input": "2022-07-13T10:43:35.076125Z",
     "iopub.status.busy": "2022-07-13T10:43:35.075728Z",
     "iopub.status.idle": "2022-07-13T10:43:35.084530Z",
     "shell.execute_reply": "2022-07-13T10:43:35.083302Z",
     "shell.execute_reply.started": "2022-07-13T10:43:35.076091Z"
    }
   },
   "outputs": [],
   "source": [
    "# 各商品ジャンルの数が90936と綺麗に一致するのが気になる\n",
    "print(33*90936)"
   ]
  },
  {
   "cell_type": "code",
   "execution_count": null,
   "metadata": {
    "execution": {
     "iopub.execute_input": "2022-07-13T10:43:35.087333Z",
     "iopub.status.busy": "2022-07-13T10:43:35.086322Z",
     "iopub.status.idle": "2022-07-13T10:43:35.534063Z",
     "shell.execute_reply": "2022-07-13T10:43:35.532844Z",
     "shell.execute_reply.started": "2022-07-13T10:43:35.087283Z"
    }
   },
   "outputs": [],
   "source": [
    "# 各商品がどれくらい売り上げるのか\n",
    "pd.options.display.float_format = '{:.2f}'.format\n",
    "print(\"Sales amount: \" + str(train[\"sales\"].sum()))\n",
    "train[[\"family\", \"sales\"]].groupby(\"family\").sum().sort_values(\"sales\", ascending=False)"
   ]
  },
  {
   "cell_type": "code",
   "execution_count": null,
   "metadata": {
    "execution": {
     "iopub.execute_input": "2022-07-13T10:43:35.541164Z",
     "iopub.status.busy": "2022-07-13T10:43:35.540645Z",
     "iopub.status.idle": "2022-07-13T10:43:35.564033Z",
     "shell.execute_reply": "2022-07-13T10:43:35.562177Z",
     "shell.execute_reply.started": "2022-07-13T10:43:35.541116Z"
    }
   },
   "outputs": [],
   "source": [
    "oil[\"date\"] = pd.to_datetime(oil[\"date\"])\n",
    "\n",
    "date_range = pd.date_range(start='1/1/2013', end='8/31/2017', freq='D')\n",
    "date_range = pd.DataFrame(date_range, columns=[\"date\"])\n",
    "oil = date_range.merge(oil, on=\"date\", how=\"left\")"
   ]
  },
  {
   "cell_type": "code",
   "execution_count": null,
   "metadata": {},
   "outputs": [],
   "source": [
    "oil.set_index('date').interpolate(limit=3, limit_direction='backward').plot()"
   ]
  },
  {
   "cell_type": "code",
   "execution_count": null,
   "metadata": {
    "execution": {
     "iopub.execute_input": "2022-07-13T10:43:35.567922Z",
     "iopub.status.busy": "2022-07-13T10:43:35.567073Z",
     "iopub.status.idle": "2022-07-13T10:43:59.854107Z",
     "shell.execute_reply": "2022-07-13T10:43:59.852767Z",
     "shell.execute_reply.started": "2022-07-13T10:43:35.567879Z"
    }
   },
   "outputs": [],
   "source": [
    "# 2013年～2017年の各月ごとの売り上げ推移をみる\n",
    "train_info = train[[\"date\", \"family\", \"sales\"]]\n",
    "train_info[\"date\"] = pd.to_datetime(train_info[\"date\"])\n",
    "train_info[\"date_monthly\"] = train_info['date'].dt.strftime('%Y-%m')\n",
    "# train_info = train_info.set_index(\"date\")\n",
    "# train_info.resample(\"M\").sum()\n",
    "sales_family_monthly = pd.pivot_table(train_info, values='sales', index='family', columns='date_monthly', aggfunc='sum', fill_value=0)\n",
    "sales_family_monthly"
   ]
  },
  {
   "cell_type": "code",
   "execution_count": null,
   "metadata": {
    "execution": {
     "iopub.execute_input": "2022-07-13T10:43:59.857345Z",
     "iopub.status.busy": "2022-07-13T10:43:59.856451Z",
     "iopub.status.idle": "2022-07-13T10:44:01.468432Z",
     "shell.execute_reply": "2022-07-13T10:44:01.467298Z",
     "shell.execute_reply.started": "2022-07-13T10:43:59.857290Z"
    }
   },
   "outputs": [],
   "source": [
    "import matplotlib.pyplot as plt\n",
    "import seaborn as sns\n",
    "\n",
    "plt.figure(figsize = (20,10))\n",
    "plt.xticks(rotation=90)\n",
    "plt.ticklabel_format(style='plain',axis='y')\n",
    "# sns.relplot(x='date_monthly', y='family', data=sales_family_monthly, kind='line')\n",
    "sns.lineplot(data=sales_family_monthly.T)\n",
    "plt.show()\n",
    "\n",
    "# 期間は2017年8月15日までなので、8月の売り上げが下がっているように見えるのは妥当である。"
   ]
  },
  {
   "cell_type": "code",
   "execution_count": null,
   "metadata": {},
   "outputs": [],
   "source": [
    "train"
   ]
  },
  {
   "cell_type": "code",
   "execution_count": null,
   "metadata": {},
   "outputs": [],
   "source": []
  },
  {
   "cell_type": "code",
   "execution_count": null,
   "metadata": {
    "execution": {
     "iopub.execute_input": "2022-07-13T10:44:01.470586Z",
     "iopub.status.busy": "2022-07-13T10:44:01.470141Z",
     "iopub.status.idle": "2022-07-13T10:44:03.391137Z",
     "shell.execute_reply": "2022-07-13T10:44:03.389944Z",
     "shell.execute_reply.started": "2022-07-13T10:44:01.470547Z"
    }
   },
   "outputs": [],
   "source": [
    "# 2013年～2017年の日ごとの売り上げ推移をみる\n",
    "train_info = train[[\"date\", \"family\", \"sales\"]]\n",
    "train_info[\"date\"] = pd.to_datetime(train_info[\"date\"])\n",
    "sales_family_daily = pd.pivot_table(train_info, values='sales', index='family', columns='date', aggfunc='sum', fill_value=0)\n",
    "sales_family_daily "
   ]
  },
  {
   "cell_type": "code",
   "execution_count": null,
   "metadata": {
    "execution": {
     "iopub.execute_input": "2022-07-13T10:44:03.392991Z",
     "iopub.status.busy": "2022-07-13T10:44:03.392615Z",
     "iopub.status.idle": "2022-07-13T10:44:07.266981Z",
     "shell.execute_reply": "2022-07-13T10:44:07.265480Z",
     "shell.execute_reply.started": "2022-07-13T10:44:03.392958Z"
    }
   },
   "outputs": [],
   "source": [
    "plt.figure(figsize = (40,20))\n",
    "plt.xticks(rotation=90)\n",
    "plt.ticklabel_format(style='plain',axis='y')\n",
    "plt.legend(bbox_to_anchor=(1.05, 1.0), loc='upper left')\n",
    "plt.tight_layout()\n",
    "sns.lineplot(data=sales_family_daily.T)\n",
    "plt.show()"
   ]
  },
  {
   "cell_type": "code",
   "execution_count": null,
   "metadata": {
    "execution": {
     "iopub.execute_input": "2022-07-13T10:44:07.269852Z",
     "iopub.status.busy": "2022-07-13T10:44:07.268927Z",
     "iopub.status.idle": "2022-07-13T10:44:07.599375Z",
     "shell.execute_reply": "2022-07-13T10:44:07.598175Z",
     "shell.execute_reply.started": "2022-07-13T10:44:07.269791Z"
    }
   },
   "outputs": [],
   "source": [
    "train_daily = train_info.copy()\n",
    "train_daily[\"year\"] = train_info[\"date\"].dt.year\n",
    "train_daily"
   ]
  },
  {
   "cell_type": "code",
   "execution_count": null,
   "metadata": {
    "execution": {
     "iopub.execute_input": "2022-07-13T10:44:07.601851Z",
     "iopub.status.busy": "2022-07-13T10:44:07.601079Z",
     "iopub.status.idle": "2022-07-13T10:44:07.658829Z",
     "shell.execute_reply": "2022-07-13T10:44:07.657169Z",
     "shell.execute_reply.started": "2022-07-13T10:44:07.601811Z"
    }
   },
   "outputs": [],
   "source": [
    "train_daily[train_daily[\"year\"] == 2013]"
   ]
  },
  {
   "cell_type": "code",
   "execution_count": null,
   "metadata": {
    "execution": {
     "iopub.execute_input": "2022-07-13T10:44:07.662120Z",
     "iopub.status.busy": "2022-07-13T10:44:07.660789Z",
     "iopub.status.idle": "2022-07-13T10:44:17.543956Z",
     "shell.execute_reply": "2022-07-13T10:44:17.542403Z",
     "shell.execute_reply.started": "2022-07-13T10:44:07.662061Z"
    }
   },
   "outputs": [],
   "source": [
    "for i in [2013, 2014, 2015, 2016, 2017]:\n",
    "    train_daily_year = train_daily[train_daily[\"year\"] == i]\n",
    "    train_info = train_daily_year[[\"date\", \"family\", \"sales\"]]\n",
    "    sales_family_daily = pd.pivot_table(train_info, values='sales', index='family', columns='date', aggfunc='sum', fill_value=0)\n",
    "    \n",
    "    plt.figure(figsize = (20,10))\n",
    "    plt.xticks(rotation=90)\n",
    "    plt.ticklabel_format(style='plain',axis='y')\n",
    "    sns.lineplot(data=sales_family_daily.T)\n",
    "    plt.show()"
   ]
  },
  {
   "cell_type": "code",
   "execution_count": null,
   "metadata": {
    "execution": {
     "iopub.execute_input": "2022-07-13T10:44:17.546014Z",
     "iopub.status.busy": "2022-07-13T10:44:17.545650Z",
     "iopub.status.idle": "2022-07-13T10:44:17.566500Z",
     "shell.execute_reply": "2022-07-13T10:44:17.565141Z",
     "shell.execute_reply.started": "2022-07-13T10:44:17.545973Z"
    }
   },
   "outputs": [],
   "source": [
    "oil[\"date\"] = pd.to_datetime(oil[\"date\"])\n",
    "oil"
   ]
  },
  {
   "cell_type": "code",
   "execution_count": null,
   "metadata": {
    "execution": {
     "iopub.execute_input": "2022-07-13T10:44:17.569959Z",
     "iopub.status.busy": "2022-07-13T10:44:17.568800Z",
     "iopub.status.idle": "2022-07-13T10:44:17.964865Z",
     "shell.execute_reply": "2022-07-13T10:44:17.963579Z",
     "shell.execute_reply.started": "2022-07-13T10:44:17.569905Z"
    }
   },
   "outputs": [],
   "source": [
    "plt.figure(figsize = (20,10))\n",
    "plt.xticks(rotation=90)\n",
    "plt.ticklabel_format(style='plain',axis='y')\n",
    "\n",
    "sns.lineplot(data=oil.set_index(\"date\"))\n",
    "plt.show()\n",
    "\n",
    "# 原油価格が下がることによって、輸入コストが減少するため、売り上げが増えるという仮定"
   ]
  },
  {
   "cell_type": "code",
   "execution_count": null,
   "metadata": {
    "execution": {
     "iopub.execute_input": "2022-07-13T10:44:17.967385Z",
     "iopub.status.busy": "2022-07-13T10:44:17.966678Z",
     "iopub.status.idle": "2022-07-13T10:44:19.259260Z",
     "shell.execute_reply": "2022-07-13T10:44:19.258142Z",
     "shell.execute_reply.started": "2022-07-13T10:44:17.967338Z"
    }
   },
   "outputs": [],
   "source": [
    "# 2013年～2017年の日ごとの売り上げ推移をみる\n",
    "train_info = train[[\"date\", \"family\", \"sales\"]]\n",
    "train_info[\"date\"] = pd.to_datetime(train_info[\"date\"])\n",
    "sales_family_daily = pd.pivot_table(train_info, values='sales', index='family', columns='date', aggfunc='sum', fill_value=0)\n",
    "# sales_family_daily "
   ]
  },
  {
   "cell_type": "code",
   "execution_count": null,
   "metadata": {
    "execution": {
     "iopub.execute_input": "2022-07-13T10:44:19.260923Z",
     "iopub.status.busy": "2022-07-13T10:44:19.260594Z",
     "iopub.status.idle": "2022-07-13T10:44:19.270321Z",
     "shell.execute_reply": "2022-07-13T10:44:19.269422Z",
     "shell.execute_reply.started": "2022-07-13T10:44:19.260893Z"
    }
   },
   "outputs": [],
   "source": [
    "sales_family_daily.T.index\n",
    "# .T.reset_index(drop=False).set_index('date').columns"
   ]
  },
  {
   "cell_type": "code",
   "execution_count": null,
   "metadata": {
    "execution": {
     "iopub.execute_input": "2022-07-13T10:44:19.272336Z",
     "iopub.status.busy": "2022-07-13T10:44:19.271934Z",
     "iopub.status.idle": "2022-07-13T10:44:30.605306Z",
     "shell.execute_reply": "2022-07-13T10:44:30.604234Z",
     "shell.execute_reply.started": "2022-07-13T10:44:19.272290Z"
    }
   },
   "outputs": [],
   "source": [
    "!pip install japanize_matplotlib"
   ]
  },
  {
   "cell_type": "code",
   "execution_count": null,
   "metadata": {
    "execution": {
     "iopub.execute_input": "2022-07-13T10:44:30.607275Z",
     "iopub.status.busy": "2022-07-13T10:44:30.606871Z",
     "iopub.status.idle": "2022-07-13T10:44:32.116176Z",
     "shell.execute_reply": "2022-07-13T10:44:32.115235Z",
     "shell.execute_reply.started": "2022-07-13T10:44:30.607238Z"
    }
   },
   "outputs": [],
   "source": [
    "import numpy as np\n",
    "import matplotlib.pyplot as plt\n",
    "from matplotlib import cm\n",
    "import japanize_matplotlib\n",
    "%matplotlib inline\n",
    "\n",
    "sales_family_daily = sales_family_daily.T\n",
    "\n",
    "fig, ax1 = plt.subplots(1,1, figsize = (60,30))\n",
    "ax2 = ax1.twinx()\n",
    "# 2軸グラフの本体設定\n",
    "for column in sales_family_daily.columns:\n",
    "    ax1.plot(sales_family_daily.index, sales_family_daily[column])\n",
    "\n",
    "ax2.plot(oil['date'], oil['dcoilwtico'], color='000000')\n",
    "#グラフタイトルを付ける\n",
    "plt.title(\"商品ジャンルごとの日別の売り上げと石油価格の推移\", fontsize=15)\n",
    "# plt.figure(figsize = (40,20))\n",
    "# plt.xticks(rotation=90)\n",
    "# plt.ticklabel_format(style='plain',axis='y')\n",
    "# plt.legend(bbox_to_anchor=(1.05, 1.0), loc='upper left')\n",
    "# 凡例の表示のため、handler1と2にはグラフオブジェクトのリスト情報が入る\n",
    "# label1と2には、凡例用に各labelのリスト情報が入る\n",
    "handler1, label1 = ax1.get_legend_handles_labels()\n",
    "handler2, label2 = ax2.get_legend_handles_labels()\n",
    "# 凡例をまとめて出力する\n",
    "ax1.legend(handler1 + handler2, label1 + label2, loc=2, borderaxespad=0.)\n",
    "sales_max = 100 + sales_family_daily.max().max()\n",
    "oil_max = 10 + oil[\"dcoilwtico\"].max()\n",
    "ax1.set_ylim([0, sales_max])\n",
    "ax2.set_ylim([0, oil_max])\n",
    "# plt.show()"
   ]
  },
  {
   "cell_type": "code",
   "execution_count": null,
   "metadata": {
    "execution": {
     "iopub.execute_input": "2022-07-13T10:44:32.118601Z",
     "iopub.status.busy": "2022-07-13T10:44:32.117601Z",
     "iopub.status.idle": "2022-07-13T10:44:34.769401Z",
     "shell.execute_reply": "2022-07-13T10:44:34.768099Z",
     "shell.execute_reply.started": "2022-07-13T10:44:32.118558Z"
    }
   },
   "outputs": [],
   "source": [
    "# ①train.csv + oil.csv \n",
    "# ②train.csv + stores = .csv \n",
    "# ③train.csv + holidays_events.csv\n",
    "\n",
    "# dateの列をstringからdatetime型に変換\n",
    "oil[\"date\"] = pd.to_datetime(oil[\"date\"])\n",
    "train[\"date\"] = pd.to_datetime(train[\"date\"])\n",
    "holidays_events[\"date\"] = pd.to_datetime(holidays_events[\"date\"])\n",
    "\n",
    "# データ作成\n",
    "train = train[train['sales'] != 0]\n",
    "oil = oil.set_index('date').interpolate(limit=3, limit_direction='backward')\n",
    "train_oil = train.merge(oil, on=\"date\")\n",
    "train_oil_stores = train_oil.merge(store, on=\"store_nbr\")\n",
    "train_oil_stores = train_oil_stores.rename(columns={\"type\":\"store_type\"})\n",
    "# train_oil_stores_holiday = train_oil_stores.merge(holidays_events, on=\"date\")\n",
    "# train_oil_stores_holiday = train_oil_stores_holiday.rename(columns={\"type\":\"holiday_type\"})\n",
    "# train_oil_stores_holiday"
   ]
  },
  {
   "cell_type": "code",
   "execution_count": null,
   "metadata": {
    "execution": {
     "iopub.execute_input": "2022-07-13T10:44:34.771750Z",
     "iopub.status.busy": "2022-07-13T10:44:34.771063Z",
     "iopub.status.idle": "2022-07-13T10:44:34.800773Z",
     "shell.execute_reply": "2022-07-13T10:44:34.799360Z",
     "shell.execute_reply.started": "2022-07-13T10:44:34.771705Z"
    }
   },
   "outputs": [],
   "source": [
    "#最大表示行数の指定（ここでは50行を指定）\n",
    "pd.set_option('display.max_rows', 100)\n",
    "train_oil_stores"
   ]
  },
  {
   "cell_type": "code",
   "execution_count": null,
   "metadata": {
    "execution": {
     "iopub.execute_input": "2022-07-13T10:44:34.803507Z",
     "iopub.status.busy": "2022-07-13T10:44:34.802914Z",
     "iopub.status.idle": "2022-07-13T10:44:34.812499Z",
     "shell.execute_reply": "2022-07-13T10:44:34.811513Z",
     "shell.execute_reply.started": "2022-07-13T10:44:34.803453Z"
    }
   },
   "outputs": [],
   "source": [
    "# train_oil_stores_holiday[\"holiday_type\"].value_counts()\n",
    "# holiday : 通常の休日\n",
    "# Event :　イベント休日？\n",
    "# Additional : 追加された休日（クリスマス直前とかついで連休みたいなイメージ）\n",
    "# Transfer : 移動された休日（おそらくTranseferの直線のholidayはholidayじゃなく平日に変化している）\n",
    "# Bridge: "
   ]
  },
  {
   "cell_type": "code",
   "execution_count": null,
   "metadata": {
    "execution": {
     "iopub.execute_input": "2022-07-13T10:44:34.814885Z",
     "iopub.status.busy": "2022-07-13T10:44:34.814334Z",
     "iopub.status.idle": "2022-07-13T10:44:34.824428Z",
     "shell.execute_reply": "2022-07-13T10:44:34.823292Z",
     "shell.execute_reply.started": "2022-07-13T10:44:34.814820Z"
    }
   },
   "outputs": [],
   "source": [
    "# 相関係数の考察\n",
    "\n",
    "# 仮説立案\n",
    "\n",
    "# 仮説検証"
   ]
  },
  {
   "cell_type": "code",
   "execution_count": null,
   "metadata": {
    "execution": {
     "iopub.execute_input": "2022-07-13T10:44:34.834687Z",
     "iopub.status.busy": "2022-07-13T10:44:34.834201Z",
     "iopub.status.idle": "2022-07-13T10:44:34.840972Z",
     "shell.execute_reply": "2022-07-13T10:44:34.839610Z",
     "shell.execute_reply.started": "2022-07-13T10:44:34.834649Z"
    }
   },
   "outputs": [],
   "source": [
    "# カテゴリ変数↓\n",
    " # family\n",
    " # city + state\n",
    " # store_type\n",
    " # type\n",
    "\n",
    "# 保留\n",
    " # cluster\n",
    " # locale + locale_name\n",
    "\n",
    "# 使わない\n",
    "# store_nbr\n",
    "# description\n",
    "# transferred\n",
    "# onpromotion"
   ]
  },
  {
   "cell_type": "code",
   "execution_count": null,
   "metadata": {
    "execution": {
     "iopub.execute_input": "2022-07-13T10:44:34.843351Z",
     "iopub.status.busy": "2022-07-13T10:44:34.842795Z",
     "iopub.status.idle": "2022-07-13T10:44:35.687981Z",
     "shell.execute_reply": "2022-07-13T10:44:35.686816Z",
     "shell.execute_reply.started": "2022-07-13T10:44:34.843297Z"
    }
   },
   "outputs": [],
   "source": [
    "train_oil_stores['year']  = train_oil_stores['date'].dt.year\n",
    "train_oil_stores['month'] = train_oil_stores['date'].dt.month\n",
    "train_oil_stores['day'] = train_oil_stores['date'].dt.day\n",
    "train_oil_stores['dayofweek'] = train_oil_stores['date'].dt.dayofweek\n",
    "train_oil_stores"
   ]
  },
  {
   "cell_type": "code",
   "execution_count": null,
   "metadata": {
    "execution": {
     "iopub.execute_input": "2022-07-13T10:44:35.690205Z",
     "iopub.status.busy": "2022-07-13T10:44:35.689779Z",
     "iopub.status.idle": "2022-07-13T10:44:36.036070Z",
     "shell.execute_reply": "2022-07-13T10:44:36.034788Z",
     "shell.execute_reply.started": "2022-07-13T10:44:35.690172Z"
    }
   },
   "outputs": [],
   "source": [
    "train_oil_stores = train_oil_stores.drop([\"date\"\n",
    "                                          , \"store_nbr\"\n",
    "#                                           , \"onpromotion\"\n",
    "                                         ], axis=1)\n",
    "train_oil_stores"
   ]
  },
  {
   "cell_type": "code",
   "execution_count": null,
   "metadata": {
    "execution": {
     "iopub.execute_input": "2022-07-13T10:44:36.038480Z",
     "iopub.status.busy": "2022-07-13T10:44:36.037927Z",
     "iopub.status.idle": "2022-07-13T10:44:36.289828Z",
     "shell.execute_reply": "2022-07-13T10:44:36.288541Z",
     "shell.execute_reply.started": "2022-07-13T10:44:36.038432Z"
    }
   },
   "outputs": [],
   "source": [
    "train_oil_stores = train_oil_stores.set_index(\"id\")\n",
    "# train_oil_stores_holiday = train_oil_stores_holiday.reset_index()\n",
    "train_oil_stores"
   ]
  },
  {
   "cell_type": "code",
   "execution_count": null,
   "metadata": {
    "execution": {
     "iopub.execute_input": "2022-07-13T10:44:36.291423Z",
     "iopub.status.busy": "2022-07-13T10:44:36.291050Z",
     "iopub.status.idle": "2022-07-13T10:44:36.296955Z",
     "shell.execute_reply": "2022-07-13T10:44:36.295909Z",
     "shell.execute_reply.started": "2022-07-13T10:44:36.291392Z"
    }
   },
   "outputs": [],
   "source": [
    "# from sklearn.preprocessing import OneHotEncoder\n",
    "\n",
    "# encoder = OneHotEncoder(sparse=False)\n",
    "\n",
    "# arr = encoder.fit_transform(train_oil_stores_holiday[['family',\n",
    "#                                                       'city', \n",
    "#                                                       'state', \n",
    "#                                                       'store_type', \n",
    "#                                                       'holiday_type', \n",
    "#                                                       'locale', \n",
    "#                                                       'locale_name']].values.reshape(-1, 1))\n",
    "\n",
    "# df_onehot = pd.DataFrame(arr, columns=encoder.categories_)\n",
    "# df_onehot\n",
    "\n",
    "# # 列名を取得\n",
    "# label = ohe.get_feature_names(['Embarked', 'Sex'])\n",
    "\n",
    "# # データフレーム化\n",
    "# df_ = pd.DataFrame(encoded, columns=label, dtype=np.int8)\n",
    "\n",
    "# # データフレームを結合\n",
    "# pd.concat([df, df_], axis=1)\n"
   ]
  },
  {
   "cell_type": "code",
   "execution_count": null,
   "metadata": {},
   "outputs": [],
   "source": []
  },
  {
   "cell_type": "code",
   "execution_count": null,
   "metadata": {
    "execution": {
     "iopub.execute_input": "2022-07-13T10:44:36.299323Z",
     "iopub.status.busy": "2022-07-13T10:44:36.298888Z",
     "iopub.status.idle": "2022-07-13T10:44:45.550688Z",
     "shell.execute_reply": "2022-07-13T10:44:45.549263Z",
     "shell.execute_reply.started": "2022-07-13T10:44:36.299277Z"
    }
   },
   "outputs": [],
   "source": [
    "# col_list = ['family','city', 'state', 'store_type', 'holiday_type','locale','locale_name']\n",
    "col_list = ['family','city', 'state', 'store_type', 'cluster','year', 'month']\n",
    "df = pd.get_dummies(train_oil_stores, columns=col_list, sparse=True)"
   ]
  },
  {
   "cell_type": "code",
   "execution_count": null,
   "metadata": {
    "execution": {
     "iopub.execute_input": "2022-07-13T10:44:45.553116Z",
     "iopub.status.busy": "2022-07-13T10:44:45.552668Z",
     "iopub.status.idle": "2022-07-13T10:44:45.562344Z",
     "shell.execute_reply": "2022-07-13T10:44:45.560764Z",
     "shell.execute_reply.started": "2022-07-13T10:44:45.553074Z"
    }
   },
   "outputs": [],
   "source": [
    "df.columns"
   ]
  },
  {
   "cell_type": "code",
   "execution_count": null,
   "metadata": {
    "execution": {
     "iopub.execute_input": "2022-07-13T10:44:45.565350Z",
     "iopub.status.busy": "2022-07-13T10:44:45.564732Z",
     "iopub.status.idle": "2022-07-13T10:44:45.574841Z",
     "shell.execute_reply": "2022-07-13T10:44:45.573449Z",
     "shell.execute_reply.started": "2022-07-13T10:44:45.565296Z"
    }
   },
   "outputs": [],
   "source": [
    "# df = df.drop(['holiday_type_Additional',\n",
    "#               'holiday_type_Bridge', \n",
    "#               'holiday_type_Event',\n",
    "#               'holiday_type_Transfer'], axis=1)"
   ]
  },
  {
   "cell_type": "code",
   "execution_count": null,
   "metadata": {
    "execution": {
     "iopub.execute_input": "2022-07-13T10:44:45.577153Z",
     "iopub.status.busy": "2022-07-13T10:44:45.576504Z",
     "iopub.status.idle": "2022-07-13T10:44:52.186574Z",
     "shell.execute_reply": "2022-07-13T10:44:52.185371Z",
     "shell.execute_reply.started": "2022-07-13T10:44:45.577114Z"
    }
   },
   "outputs": [],
   "source": [
    "pd.set_option('display.max_rows', 140)\n",
    "df_notnull = df[df[\"dcoilwtico\"].notnull()]\n",
    "df_notnull.isnull().sum()"
   ]
  },
  {
   "cell_type": "code",
   "execution_count": null,
   "metadata": {},
   "outputs": [],
   "source": [
    "df_notnull"
   ]
  },
  {
   "cell_type": "code",
   "execution_count": null,
   "metadata": {},
   "outputs": [],
   "source": []
  },
  {
   "cell_type": "code",
   "execution_count": null,
   "metadata": {
    "execution": {
     "iopub.execute_input": "2022-07-13T10:44:52.188393Z",
     "iopub.status.busy": "2022-07-13T10:44:52.187988Z",
     "iopub.status.idle": "2022-07-13T10:44:52.230236Z",
     "shell.execute_reply": "2022-07-13T10:44:52.228945Z",
     "shell.execute_reply.started": "2022-07-13T10:44:52.188359Z"
    }
   },
   "outputs": [],
   "source": [
    "X = df_notnull.iloc[:,1:]\n",
    "Y = df_notnull[\"sales\"]"
   ]
  },
  {
   "cell_type": "code",
   "execution_count": null,
   "metadata": {},
   "outputs": [],
   "source": []
  },
  {
   "cell_type": "code",
   "execution_count": null,
   "metadata": {},
   "outputs": [],
   "source": [
    "X_train, X_test, y_train, y_test = train_test_split(X, Y, test_size=0.2, random_state=0)\n",
    "\n",
    "# 5-fold CVモデルの学習\n",
    "\n",
    "# 【ブロック１：　初期化】\n",
    "# 5つのモデルを保存するリストの初期化\n",
    "models = []\n",
    "\n",
    "# 学習用データでの予測値を保存するデータフレームの初期化\n",
    "df_train_preds = pd.DataFrame({'y_train': y_train})\n",
    "\n",
    "# 検証用データでの予測値を保存するデータフレームの初期化\n",
    "df_eval_preds = pd.DataFrame({'y_eval': [],\n",
    "                              'y_eval_pred': []})\n",
    "\n",
    "# テストデータでの予測値を保存するデータフレームの初期化\n",
    "df_test_preds = pd.DataFrame({'y_test': y_test})\n",
    "# インデックスが0からの連番になるように初期化\n",
    "\n",
    "df_test_preds.reset_index(inplace=True, drop=True)\n",
    "\n",
    "# R^2を保存するデータフレームの初期化\n",
    "df_R2 = pd.DataFrame({'train': [],\n",
    "                      'eval': [],\n",
    "                      'test': []})\n",
    "\n",
    "# RMSEを保存するデータフレームの初期化\n",
    "df_RMSE =pd.DataFrame({'train': [],\n",
    "                       'eval': [],\n",
    "                       'test': []})\n",
    "\n",
    "# ラウンド数の初期化\n",
    "round_no = 0\n",
    "\n",
    "\n",
    "# 【ブロック２：　モデルの学習】\n",
    "# 学習データの数だけの数列（0行から最終行まで連番）\n",
    "row_no_list = list(range(len(y_train)))\n",
    "\n",
    "# KFoldクラスをインスタンス化（これを使って5分割する）\n",
    "K_fold = KFold(n_splits=5, shuffle=True,  random_state=42)\n",
    "\n",
    "\n",
    "# KFoldクラスで分割した回数だけ実行（ここでは5回）\n",
    "for train_cv_no, eval_cv_no in K_fold.split(row_no_list, y_train):\n",
    "    # ilocで取り出す行を指定\n",
    "    X_train_cv = X_train.iloc[train_cv_no, :]\n",
    "    y_train_cv = pd.Series(y_train).iloc[train_cv_no]\n",
    "    X_eval_cv = X_train.iloc[eval_cv_no, :]\n",
    "    y_eval_cv = pd.Series(y_train).iloc[eval_cv_no]\n",
    "    \n",
    "    # 学習用\n",
    "    lgb_train = lgb.Dataset(X_train_cv, y_train_cv,\n",
    "                            free_raw_data=False)\n",
    "    # 検証用\n",
    "    lgb_eval = lgb.Dataset(X_eval_cv, y_eval_cv, reference=lgb_train,\n",
    "                           free_raw_data=False)\n",
    "    \n",
    "    # パラメータを設定\n",
    "    params = {'task': 'train',                # 学習、トレーニング ⇔　予測predict\n",
    "              'boosting_type': 'gbdt',        # 勾配ブースティング\n",
    "              'objective': 'regression',      # 目的関数：回帰\n",
    "              'metric': 'rmse',               # 分類モデルの性能を測る指標\n",
    "              'learning_rate': 0.1 }          # 学習率（初期値0.1）\n",
    "    \n",
    "    # 学習\n",
    "    evaluation_results = {}                              # 学習の経過を保存する箱\n",
    "    model = lgb.train(params,                            # 上記で設定したパラメータ\n",
    "                      lgb_train,                         # 使用するデータセット\n",
    "                      num_boost_round=1000,              # 学習の回数\n",
    "                      valid_names=['train', 'valid'],    # 学習経過で表示する名称\n",
    "                      valid_sets=[lgb_train, lgb_eval],  # モデル検証のデータセット\n",
    "                      evals_result=evaluation_results,   # 学習の経過を保存\n",
    "                      early_stopping_rounds=20,          # アーリーストッピング\n",
    "                      verbose_eval=0)                    # 学習の経過の非表示\n",
    "    \n",
    "    # 学習が終わったモデルをリストに保存\n",
    "    models.append(model) \n",
    "    \n",
    "    \n",
    "    # 【ブロック３：　モデルで予測】\n",
    "    # 学習したモデルで予測\n",
    "    y_train_pred = model.predict(X_train_cv, num_iteration=model.best_iteration)\n",
    "    y_eval_pred = model.predict(X_eval_cv, num_iteration=model.best_iteration)\n",
    "    y_test_pred = model.predict(X_test, num_iteration=model.best_iteration)\n",
    "    \n",
    "    # 学習用データでの予測値をデータフレームに保存\n",
    "    df_train_cv_pred = pd.DataFrame({round_no: y_train_pred},\n",
    "                                     index=train_cv_no)\n",
    "    df_train_preds = df_train_preds.join(df_train_cv_pred, how='left')\n",
    "    \n",
    "    # 検証用データでの予測値をデータフレームに保存\n",
    "    df_eval_pred = pd.DataFrame({'y_eval': y_eval_cv,\n",
    "                                 'y_eval_pred': y_eval_pred})\n",
    "    df_eval_preds = df_eval_preds.append(df_eval_pred)    \n",
    "    \n",
    "    # テストデータでの予測値をデータフレームに保存\n",
    "    df_test_cv_pred = pd.DataFrame({round_no: y_test_pred})\n",
    "    df_test_preds = pd.concat([df_test_preds, df_test_cv_pred], axis=1)\n",
    "\n",
    "    #  r2_score を計算\n",
    "    train_score = r2_score(y_train_cv, y_train_pred)\n",
    "    eval_score = r2_score(y_eval_cv, y_eval_pred)\n",
    "    test_score = r2_score(y_test, y_test_pred)\n",
    "    \n",
    "    #  RMSE を計算\n",
    "    train_RMSE_score = np.sqrt(mean_squared_error(y_train_cv, y_train_pred))\n",
    "    eval_RMSE_score = np.sqrt(mean_squared_error(y_eval_cv, y_eval_pred))\n",
    "    test_RMSE_score = np.sqrt(mean_squared_error(y_test, y_test_pred))\n",
    "    \n",
    "    # スコアを表示\n",
    "    print('R^2 train: %.5f, eval: %.5f, test: %.5f' \n",
    "          % (train_score, eval_score, test_score),\n",
    "         '  |  RMSE train: %.5f, eval: %.5f, test: %.5f' \n",
    "          % (train_RMSE_score, eval_RMSE_score, test_RMSE_score))\n",
    "    \n",
    "    # R2の保存\n",
    "    df_R2_cv = pd.DataFrame({'train': [train_score],\n",
    "                             'eval': [eval_score],\n",
    "                             'test': [test_score]},\n",
    "                             index=[round_no])\n",
    "    df_R2 = df_R2.append(df_R2_cv)\n",
    "    \n",
    "    # RMSEの保存\n",
    "    df_RMSE_cv =pd.DataFrame({'train': [train_RMSE_score],\n",
    "                              'eval': [eval_RMSE_score],\n",
    "                              'test': [test_RMSE_score]},\n",
    "                              index=[round_no])\n",
    "    df_RMSE = df_RMSE.append(df_RMSE_cv)\n",
    "    \n",
    "    # ラウンド数のカウンタを更新\n",
    "    round_no += 1\n",
    "\n",
    "\n",
    "# 保存したR2の平均値    \n",
    "R2_ave = df_R2.mean().to_numpy()\n",
    "# 保存したRMSEの平均値   \n",
    "RMSE_ave = df_RMSE.mean().to_numpy()\n",
    "# 平均値を表示\n",
    "print('Average:')\n",
    "print('R^2 train: %.5f, eval: %.5f, test: %.5f'\n",
    "      % (R2_ave[0], R2_ave[1], R2_ave[2]),\n",
    "      '  |  RMSE train: %.5f, eval: %.5f, test: %.5f'\n",
    "      % (RMSE_ave[0], RMSE_ave[1], RMSE_ave[2]))"
   ]
  },
  {
   "cell_type": "code",
   "execution_count": null,
   "metadata": {},
   "outputs": [],
   "source": [
    "# 初回\n",
    "# model = create_model('lightgbm')\n",
    "# パラメータ調整後\n",
    "model = create_model('rf', fold=5)"
   ]
  },
  {
   "cell_type": "code",
   "execution_count": null,
   "metadata": {},
   "outputs": [],
   "source": [
    "tuned_model = tune_model(model, optimize = 'RMSE', fold=5)"
   ]
  },
  {
   "cell_type": "code",
   "execution_count": null,
   "metadata": {},
   "outputs": [],
   "source": [
    "# モデルの評価指標を確認\n",
    "evaluate_model(tuned_model)"
   ]
  },
  {
   "cell_type": "code",
   "execution_count": null,
   "metadata": {},
   "outputs": [],
   "source": [
    "final_model = finalize_model(tuned_model)"
   ]
  },
  {
   "cell_type": "code",
   "execution_count": null,
   "metadata": {},
   "outputs": [],
   "source": [
    "oil"
   ]
  },
  {
   "cell_type": "code",
   "execution_count": null,
   "metadata": {},
   "outputs": [],
   "source": [
    "# ①train.csv + oil.csv \n",
    "# ②train.csv + stores = .csv \n",
    "# ③train.csv + holidays_events.csv\n",
    "\n",
    "# dateの列をstringからdatetime型に変換\n",
    "test[\"date\"] = pd.to_datetime(test[\"date\"])\n",
    "\n",
    "# データ作成\n",
    "oil = oil.set_index('date').interpolate(limit=3, limit_direction='backward')\n",
    "test_oil = test.merge(oil, on=\"date\", how=\"inner\")\n",
    "test_oil_stores = test_oil.merge(store, on=\"store_nbr\")\n",
    "test_oil_stores = test_oil_stores.rename(columns={\"type\":\"store_type\"})\n",
    "# test_oil_stores_holiday = test_oil_stores.merge(holidays_events, on=\"date\", how=\"left\")\n",
    "# test_oil_stores_holiday = test_oil_stores_holiday.rename(columns={\"type\":\"holiday_type\"})\n",
    "# test_oil_stores_holiday\n",
    "test_oil_stores['year']  = test_oil_stores['date'].dt.year\n",
    "test_oil_stores['month'] = test_oil_stores['date'].dt.month\n",
    "test_oil_stores['day'] = test_oil_stores['date'].dt.day\n",
    "test_oil_stores['dayofweek'] = test_oil_stores['date'].dt.dayofweek\n",
    "test_oil_stores = test_oil_stores.drop([\"date\"\n",
    "                                        , \"store_nbr\"\n",
    "#                                         , \"onpromotion\"\n",
    "                                       ], axis=1)\n",
    "test_oil_stores = test_oil_stores.set_index(\"id\")\n",
    "\n",
    "# col_list = ['family','city', 'state', 'store_type', 'holiday_type','locale','locale_name']\n",
    "col_list = ['family','city', 'state', 'store_type', 'cluster','year', 'month']\n",
    "test_df = pd.get_dummies(test_oil_stores, columns=col_list, sparse=True)\n",
    "test_df"
   ]
  },
  {
   "cell_type": "code",
   "execution_count": null,
   "metadata": {},
   "outputs": [],
   "source": [
    "pred = predict_model(final_model, data = test_df)"
   ]
  },
  {
   "cell_type": "code",
   "execution_count": null,
   "metadata": {},
   "outputs": [],
   "source": [
    "pred.reset_index()[[\"id\",\"Label\"]].rename(columns={\"Label\":\"sales\"})"
   ]
  },
  {
   "cell_type": "code",
   "execution_count": null,
   "metadata": {},
   "outputs": [],
   "source": [
    "pred = pred.reset_index()[[\"id\",\"Label\"]].rename(columns={\"Label\":\"sales\"})"
   ]
  },
  {
   "cell_type": "code",
   "execution_count": null,
   "metadata": {},
   "outputs": [],
   "source": [
    "# pred[pred['sales'] <= 0].sort_values('sales',ascending=True)"
   ]
  },
  {
   "cell_type": "code",
   "execution_count": null,
   "metadata": {},
   "outputs": [],
   "source": [
    "pred[pred['sales'] <= 0]['sales'] = 0\n",
    "\n",
    "pred.loc[pred['sales'] < 0, 'sales'] = 0"
   ]
  },
  {
   "cell_type": "code",
   "execution_count": null,
   "metadata": {},
   "outputs": [],
   "source": [
    "pred"
   ]
  },
  {
   "cell_type": "code",
   "execution_count": null,
   "metadata": {},
   "outputs": [],
   "source": [
    "sample_submission = pd.read_csv('../Dataset/store-sales-time-series-forecasting/sample_submission.csv')\n"
   ]
  },
  {
   "cell_type": "code",
   "execution_count": null,
   "metadata": {},
   "outputs": [],
   "source": [
    "sample_submission"
   ]
  },
  {
   "cell_type": "code",
   "execution_count": null,
   "metadata": {},
   "outputs": [],
   "source": [
    "test"
   ]
  },
  {
   "cell_type": "code",
   "execution_count": null,
   "metadata": {},
   "outputs": [],
   "source": [
    "pred.to_csv('forecasting-store-sales.csv', index = False)"
   ]
  },
  {
   "cell_type": "code",
   "execution_count": null,
   "metadata": {},
   "outputs": [],
   "source": []
  }
 ],
 "metadata": {
  "kernelspec": {
   "display_name": "Python 3 (ipykernel)",
   "language": "python",
   "name": "python3"
  },
  "language_info": {
   "codemirror_mode": {
    "name": "ipython",
    "version": 3
   },
   "file_extension": ".py",
   "mimetype": "text/x-python",
   "name": "python",
   "nbconvert_exporter": "python",
   "pygments_lexer": "ipython3",
   "version": "3.9.12"
  },
  "vscode": {
   "interpreter": {
    "hash": "00e6d6294f8541d4e2d900c2c841b062d4c1a095d5fb3086355044bf1c8b37b5"
   }
  }
 },
 "nbformat": 4,
 "nbformat_minor": 4
}
